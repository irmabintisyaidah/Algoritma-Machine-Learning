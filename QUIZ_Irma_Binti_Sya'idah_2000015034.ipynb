{
  "nbformat": 4,
  "nbformat_minor": 0,
  "metadata": {
    "colab": {
      "name": "QUIZ Irma Binti Sya'idah 2000015034.ipynb",
      "provenance": []
    },
    "kernelspec": {
      "name": "python3",
      "display_name": "Python 3"
    },
    "language_info": {
      "name": "python"
    }
  },
  "cells": [
    {
      "cell_type": "code",
      "metadata": {
        "id": "yH24w2j0cv5W",
        "colab": {
          "base_uri": "https://localhost:8080/"
        },
        "outputId": "976d6b28-8fb7-46e9-e31e-e0db4720ef10"
      },
      "source": [
        "def luas_segitiga ():\n",
        "  a=input(\"Apakah diketahui tiga sisi? (yes/no)\")\n",
        "  if a== \"yes\":\n",
        "    a=float(input(\"Masukkan sisi pertama:\"))\n",
        "    b=float(input(\"Masukkan sisi kedua:\"))\n",
        "    c=float(input(\"Masukkan sisi ketiga:\"))\n",
        "    r=float(input(\"Masukkan jari-jari:\"))\n",
        "    luas= (a*b*c)/(4*r)\n",
        "    print (\"Luasnya adalah  : \", luas)\n",
        "    tanya()\n",
        "  elif a == \"no\":\n",
        "    print(\"Ulangi pilihan\")\n",
        "    tanya()\n",
        "  return\n",
        "\n",
        "def tanya():\n",
        "  tanya = input(\"Ingin Apakah ingin pilih ulang? [y/t] : \")\n",
        "  if tanya == \"y\":\n",
        "    luas_segitiga()\n",
        "  elif tanya == \"t\":\n",
        "    akhir()\n",
        "  else:\n",
        "      print(\"Input Tidak Sesuai dengan Formula yang Tersedia!\")\n",
        "\n",
        "def akhir():\n",
        "    print(\"terimakasih\")\n",
        "    \n",
        "luas_segitiga()\n"
      ],
      "execution_count": 2,
      "outputs": [
        {
          "output_type": "stream",
          "name": "stdout",
          "text": [
            "Apakah diketahui tiga sisi? (yes/no)yes\n",
            "Masukkan sisi pertama:7\n",
            "Masukkan sisi kedua:8\n",
            "Masukkan sisi ketiga:7\n",
            "Masukkan jari-jari:7\n",
            "Luasnya adalah  :  14.0\n",
            "Ingin Apakah ingin pilih ulang? [y/t] : x\n",
            "Input Tidak Sesuai dengan Formula yang Tersedia!\n"
          ]
        }
      ]
    },
    {
      "cell_type": "code",
      "metadata": {
        "id": "r3bYuVzivXzR"
      },
      "source": [
        ""
      ],
      "execution_count": null,
      "outputs": []
    }
  ]
}